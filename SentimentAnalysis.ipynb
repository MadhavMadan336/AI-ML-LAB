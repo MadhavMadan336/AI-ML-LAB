{
  "nbformat": 4,
  "nbformat_minor": 0,
  "metadata": {
    "colab": {
      "provenance": [],
      "authorship_tag": "ABX9TyPmm+/3ey231GQzJb8mfRy9",
      "include_colab_link": true
    },
    "kernelspec": {
      "name": "python3",
      "display_name": "Python 3"
    },
    "language_info": {
      "name": "python"
    }
  },
  "cells": [
    {
      "cell_type": "markdown",
      "metadata": {
        "id": "view-in-github",
        "colab_type": "text"
      },
      "source": [
        "<a href=\"https://colab.research.google.com/github/MadhavMadan336/AI-ML-LAB/blob/main/SentimentAnalysis.ipynb\" target=\"_parent\"><img src=\"https://colab.research.google.com/assets/colab-badge.svg\" alt=\"Open In Colab\"/></a>"
      ]
    },
    {
      "cell_type": "code",
      "execution_count": 15,
      "metadata": {
        "id": "LLuS9vaBZ_QI",
        "colab": {
          "base_uri": "https://localhost:8080/"
        },
        "outputId": "e2906418-6932-4265-ebd6-30171deb4448"
      },
      "outputs": [
        {
          "output_type": "stream",
          "name": "stderr",
          "text": [
            "[nltk_data] Downloading package vader_lexicon to /root/nltk_data...\n"
          ]
        }
      ],
      "source": [
        "import nltk\n",
        "nltk.download('vader_lexicon')\n",
        "from nltk.sentiment.vader import SentimentIntensityAnalyzer"
      ]
    },
    {
      "cell_type": "code",
      "source": [
        "def classify_sentiment_vader(review):\n",
        "    sid = SentimentIntensityAnalyzer()\n",
        "    scores = sid.polarity_scores(review)\n",
        "    compound = scores['compound']\n",
        "    # Define thresholds (commonly: compound >= 0.05 => positive, <= -0.05 => negative)\n",
        "    if compound >= 0.05:\n",
        "        return \"positive\"\n",
        "    elif compound <= -0.05:\n",
        "        return \"negative\"\n",
        "    else:\n",
        "        return \"neutral\""
      ],
      "metadata": {
        "id": "I5kMJM-jdSYU"
      },
      "execution_count": 16,
      "outputs": []
    },
    {
      "cell_type": "code",
      "source": [
        "# Example usage\n",
        "review_text = \"I absolutely welled this movie, it was shitty!\"\n",
        "#review_text = \"I absolutely loved this movie, it was fantastic!\"\n",
        "print(f\"Review: {review_text}\\nSentiment: {classify_sentiment_vader(review_text)}\")"
      ],
      "metadata": {
        "colab": {
          "base_uri": "https://localhost:8080/"
        },
        "id": "T_5Vv5qgdXn2",
        "outputId": "473a8cce-1333-43c1-b21b-ec3dd5b4df58"
      },
      "execution_count": 17,
      "outputs": [
        {
          "output_type": "stream",
          "name": "stdout",
          "text": [
            "Review: I absolutely welled this movie, it was shitty!\n",
            "Sentiment: negative\n"
          ]
        }
      ]
    }
  ]
}